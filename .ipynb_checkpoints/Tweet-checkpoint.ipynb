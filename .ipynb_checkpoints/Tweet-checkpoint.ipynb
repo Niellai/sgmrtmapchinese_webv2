{
 "cells": [
  {
   "cell_type": "code",
   "execution_count": 34,
   "metadata": {
    "collapsed": false
   },
   "outputs": [],
   "source": [
    "import json\n",
    "import re\n",
    "import asyncio\n",
    "# Import the necessary methods from \"twitter\" library\n",
    "from twitter import Twitter, OAuth, TwitterHTTPError, TwitterStream\n",
    "# Custom python file to allow import of python notebook \"ipynb\" as module\n",
    "import import_notebook\n",
    "\n",
    "# Python notebook files\n",
    "from FCM import FCM\n",
    "from WordFormat import WordFormat\n",
    "from ExportSheet import ExportSheet"
   ]
  },
  {
   "cell_type": "code",
   "execution_count": 35,
   "metadata": {
    "collapsed": false
   },
   "outputs": [],
   "source": [
    "class Tweet:\n",
    "    \n",
    "    # define keys to look out for in tweet msg\n",
    "    keyList = ['incident', 'no train', 'fault', 'resumed', 'svc', 'svcs',\n",
    "           'service', 'serivces', '[NSL]', '[EWL]', '[CCL]', '[DTL]', '[TSL]']\n",
    "\n",
    "    # Variables that contains the user credentials to access Twitter API \n",
    "    ACCESS_TOKEN = '80337313-lbccFWgRT0BM8VGvepY9foRbiAXbdKYJOo8kC1NFC'\n",
    "    ACCESS_SECRET = 'GyPBROB8XPkz3YwRQoJlyNg1kud4ylCPHS73z5M34V7Es'\n",
    "    CONSUMER_KEY = 'LZ30cTS3iKCZ6XDAlTeTD54xj'\n",
    "    CONSUMER_SECRET = '1yB0ydySHdFKYcMw0baxYkhzMPgzTkfYvNApoGdfCEnGVqTxV3'\n",
    "\n",
    "    # Listen for tweet, will loop endlessly until exception occurs\n",
    "    def listen(self):\n",
    "        wordFormat = WordFormat()\n",
    "        fcm = FCM()\n",
    "        exportSheet = ExportSheet()\n",
    "        \n",
    "        oauth = OAuth(self.ACCESS_TOKEN, self.ACCESS_SECRET, self.CONSUMER_KEY, self.CONSUMER_SECRET)  \n",
    "        print(\"Running twitter stream...\")\n",
    "        \n",
    "        try:\n",
    "            # Initiate the connection to Twitter Streaming API\n",
    "            twitter_stream = TwitterStream(auth=oauth)\n",
    "\n",
    "            # Get a sample of the public data following through Twitter\n",
    "            # location lng/lat pair, 1st: south-west 2nd: north-east \n",
    "            # My ID: 80337313\n",
    "            # SMRT_Singapore: 307781209\n",
    "            # SBSTransit_Ltd: 3087502272\n",
    "            stream = twitter_stream.statuses.filter(follow=\"307781209, 3087502272, 80337313\", language=\"en\")\n",
    "        except Exception as e: \n",
    "            print(\"Connecting to twitter error: {}\".format(e))       \n",
    "        \n",
    "        print(\"Waiting for twitter msg...\")\n",
    "             \n",
    "        for tweet in stream:\n",
    "            try:            \n",
    "                tweetJson = json.dumps(tweet)\n",
    "                print(tweetJson)\n",
    "                \n",
    "                jsonData = self.extractTweet(tweetJson)                 \n",
    "                ori_tweet = jsonData['text']\n",
    "                \n",
    "                replaced_tweet, translated_tweet = wordFormat.translateTweet(jsonData['text'])               \n",
    "                jsonData['text'] = translated_tweet\n",
    "                \n",
    "                if self.containKey(ori_tweet):\n",
    "                    fcm.send_default(jsonData)                 \n",
    "                \n",
    "                exportSheet.writeToSheet(jsonData['timestamp_ms'], ori_tweet, replaced_tweet, translated_tweet)                \n",
    "                print(\"Waiting for twitter msg...\")\n",
    "            except Exception as e: \n",
    "                print(\"Error in tweet stream: {}\".format(e))\n",
    "\n",
    "    # Extract tweet and return json object             \n",
    "    def extractTweet(self, tweetsStr):\n",
    "        try:\n",
    "            jsonData = json.loads(tweetsStr)                        \n",
    "            data = {}            \n",
    "            # Extracting userID\n",
    "            userData = jsonData['user']                        \n",
    "            userID = userData['id_str']\n",
    "            if userID == '3087502272':\n",
    "                data['text'] = \"[Bus service]{}\".format(jsonData['text'])\n",
    "            else:\n",
    "                data['text'] = jsonData['text']\n",
    "\n",
    "            # Extracting entities, for media url         \n",
    "            try:\n",
    "                if 'extended_tweet' in jsonData:\n",
    "                    extTweetData = jsonData['extended_tweet']\n",
    "                    entitiesData = extTweetData['entities']\n",
    "                    mediaData = entitiesData['media'][0]\n",
    "                    media_url = mediaData['media_url']\n",
    "                    data['media_url'] = media_url                    \n",
    "            except Exception as e:\n",
    "                print('ExtractTweet entities error: {}'.format(e))\n",
    "            \n",
    "            data['timestamp_ms'] = int(jsonData['timestamp_ms'])        \n",
    "            jsonDataStr = json.dumps(data, ensure_ascii=False)   \n",
    "            print(\"Tweet received: {}\".format(data['text']))\n",
    "            return json.loads(jsonDataStr)    \n",
    "        except Exception as e: \n",
    "            print(\"ExtractTweet error: {}\".format(e))                 \n",
    "            \n",
    "    # Will only match exact word in the sentence\n",
    "    def containKey(self, jsonData):\n",
    "        isContainKey = False\n",
    "        for key in self.keyList:    \n",
    "            result = self.findWholeWord(key)(jsonData)\n",
    "            if result is not None:        \n",
    "                isContainKey = True\n",
    "                break\n",
    "        return isContainKey\n",
    "    \n",
    "    def findWholeWord(self, w):\n",
    "        return re.compile(r'\\b({0})\\b'.format(w), flags=re.IGNORECASE).search"
   ]
  },
  {
   "cell_type": "code",
   "execution_count": 36,
   "metadata": {
    "collapsed": false
   },
   "outputs": [
    {
     "name": "stdout",
     "output_type": "stream",
     "text": [
      "Running twitter stream...\n",
      "Connecting to twitter error: Twitter sent status 420 for URL: 1.1/statuses/filter.json using parameters: (follow=307781209%2C%203087502272%2C%2080337313&language=en&oauth_consumer_key=LZ30cTS3iKCZ6XDAlTeTD54xj&oauth_nonce=17107316411258636749&oauth_signature_method=HMAC-SHA1&oauth_timestamp=1498458997&oauth_token=80337313-lbccFWgRT0BM8VGvepY9foRbiAXbdKYJOo8kC1NFC&oauth_version=1.0&oauth_signature=hl4TixXE%2BX4tyO9kUqFwwkojCno%3D)\n",
      "details: Exceeded connection limit for user\n",
      "\n",
      "Waiting for twitter msg...\n"
     ]
    },
    {
     "ename": "UnboundLocalError",
     "evalue": "local variable 'stream' referenced before assignment",
     "output_type": "error",
     "traceback": [
      "\u001b[0;31m---------------------------------------------------------------------------\u001b[0m",
      "\u001b[0;31mUnboundLocalError\u001b[0m                         Traceback (most recent call last)",
      "\u001b[0;32m<ipython-input-36-6e5fa32685be>\u001b[0m in \u001b[0;36m<module>\u001b[0;34m()\u001b[0m\n\u001b[1;32m      2\u001b[0m \u001b[0mwordFormat\u001b[0m \u001b[1;33m=\u001b[0m \u001b[0mWordFormat\u001b[0m\u001b[1;33m(\u001b[0m\u001b[1;33m)\u001b[0m\u001b[1;33m\u001b[0m\u001b[0m\n\u001b[1;32m      3\u001b[0m \u001b[0mtweet\u001b[0m \u001b[1;33m=\u001b[0m \u001b[0mTweet\u001b[0m\u001b[1;33m(\u001b[0m\u001b[1;33m)\u001b[0m\u001b[1;33m\u001b[0m\u001b[0m\n\u001b[0;32m----> 4\u001b[0;31m \u001b[0mtweet\u001b[0m\u001b[1;33m.\u001b[0m\u001b[0mlisten\u001b[0m\u001b[1;33m(\u001b[0m\u001b[1;33m)\u001b[0m\u001b[1;33m\u001b[0m\u001b[0m\n\u001b[0m\u001b[1;32m      5\u001b[0m \u001b[1;33m\u001b[0m\u001b[0m\n\u001b[1;32m      6\u001b[0m \u001b[1;31m# jsonData = wordFormat.readJsonFile('error.json')\u001b[0m\u001b[1;33m\u001b[0m\u001b[1;33m\u001b[0m\u001b[0m\n",
      "\u001b[0;32m<ipython-input-35-af95db6570e4>\u001b[0m in \u001b[0;36mlisten\u001b[0;34m(self)\u001b[0m\n\u001b[1;32m     35\u001b[0m         \u001b[0mprint\u001b[0m\u001b[1;33m(\u001b[0m\u001b[1;34m\"Waiting for twitter msg...\"\u001b[0m\u001b[1;33m)\u001b[0m\u001b[1;33m\u001b[0m\u001b[0m\n\u001b[1;32m     36\u001b[0m \u001b[1;33m\u001b[0m\u001b[0m\n\u001b[0;32m---> 37\u001b[0;31m         \u001b[1;32mfor\u001b[0m \u001b[0mtweet\u001b[0m \u001b[1;32min\u001b[0m \u001b[0mstream\u001b[0m\u001b[1;33m:\u001b[0m\u001b[1;33m\u001b[0m\u001b[0m\n\u001b[0m\u001b[1;32m     38\u001b[0m             \u001b[1;32mtry\u001b[0m\u001b[1;33m:\u001b[0m\u001b[1;33m\u001b[0m\u001b[0m\n\u001b[1;32m     39\u001b[0m                 \u001b[0mtweetJson\u001b[0m \u001b[1;33m=\u001b[0m \u001b[0mjson\u001b[0m\u001b[1;33m.\u001b[0m\u001b[0mdumps\u001b[0m\u001b[1;33m(\u001b[0m\u001b[0mtweet\u001b[0m\u001b[1;33m)\u001b[0m\u001b[1;33m\u001b[0m\u001b[0m\n",
      "\u001b[0;31mUnboundLocalError\u001b[0m: local variable 'stream' referenced before assignment"
     ]
    }
   ],
   "source": [
    "# Testing purpose\n",
    "# wordFormat = WordFormat()\n",
    "# tweet = Tweet()\n",
    "# tweet.listen()\n",
    "\n",
    "# jsonData = wordFormat.readJsonFile('error.json')\n",
    "# jsonStr = tweet.extractTweet(json.dumps(jsonData))\n",
    "# print(jsonStr)\n",
    "\n"
   ]
  }
 ],
 "metadata": {
  "anaconda-cloud": {},
  "kernelspec": {
   "display_name": "Python [default]",
   "language": "python",
   "name": "python3"
  },
  "language_info": {
   "codemirror_mode": {
    "name": "ipython",
    "version": 3
   },
   "file_extension": ".py",
   "mimetype": "text/x-python",
   "name": "python",
   "nbconvert_exporter": "python",
   "pygments_lexer": "ipython3",
   "version": "3.5.2"
  }
 },
 "nbformat": 4,
 "nbformat_minor": 1
}
