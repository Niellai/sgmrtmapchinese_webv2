{
 "cells": [
  {
   "cell_type": "code",
   "execution_count": 5,
   "metadata": {
    "collapsed": true
   },
   "outputs": [],
   "source": [
    "import json\n",
    "\n",
    "# Import Firebase Cloud Message\n",
    "from pyfcm import FCMNotification"
   ]
  },
  {
   "cell_type": "code",
   "execution_count": 6,
   "metadata": {
    "collapsed": true
   },
   "outputs": [],
   "source": [
    "class FCM:\n",
    "    \n",
    "    FCM_API_KEY = 'AAAA7txeP1w:APA91bGgt2_t3W3__9IG0uGrJek4PsDES3_IWNv22x9sa41HVufRNYIrHZpSq8L02VPOQxBU-qz1ewPdIPxJh8fGNoJ6UM1NALy0jGKJ3S1hGq3ug-65Jc8LEV6nZVPGuGfDX3wfZIRx'\n",
    "    FCM_TOPICS = 'SMRT_UPDATES'\n",
    "\n",
    "    # Send json data to fcm in default topic\n",
    "    def send_default(self, jsondata):    \n",
    "        try:\n",
    "            push_service = FCMNotification(api_key=FCM.FCM_API_KEY)\n",
    "            result = push_service.notify_topic_subscribers(\n",
    "                data_message = jsondata,\n",
    "                topic_name = FCM.FCM_TOPICS)\n",
    "            print(result)\n",
    "        except Exception as e:\n",
    "            print(\"fcm_topic error: {}\".format(e)) \n",
    "    \n",
    "    # Send json data to fcm in given topic\n",
    "    def send_topic(self, jsondata, topic):    \n",
    "        try:\n",
    "            push_service = FCMNotification(api_key=FCM.FCM_API_KEY)\n",
    "            result = push_service.notify_topic_subscribers(\n",
    "                data_message = jsondata,\n",
    "                topic_name = topic)\n",
    "            print(result)\n",
    "        except Exception as e:\n",
    "            print(\"fcm_topic error: {}\".format(e)) "
   ]
  },
  {
   "cell_type": "code",
   "execution_count": 13,
   "metadata": {
    "collapsed": false
   },
   "outputs": [
    {
     "name": "stdout",
     "output_type": "stream",
     "text": [
      "{'canonical_ids': 0, 'success': 1, 'failure': 0, 'multicast_id': None, 'results': []}\n"
     ]
    }
   ],
   "source": [
    "'''\n",
    "Example / Test methods\n",
    "'''\n",
    "# sendData = {}\n",
    "# # sendData['text'] = \"[东西地铁线]更新：请从#政府大厦到＃杜佛额外10分钟的旅行时间。我们正在努力恢复服务。\"\n",
    "# sendData['text'] = \"testing message\"\n",
    "# sendData['timestamp_ms'] = 1498050580169\n",
    "\n",
    "# # sendData['text'] = json.dumps(sendData, ensure_ascii=False)\n",
    "\n",
    "# fcm = FCM()\n",
    "# fcm.send_topic(sendData, 'SMRT_UPDATES')"
   ]
  }
 ],
 "metadata": {
  "anaconda-cloud": {},
  "kernelspec": {
   "display_name": "Python [default]",
   "language": "python",
   "name": "python3"
  },
  "language_info": {
   "codemirror_mode": {
    "name": "ipython",
    "version": 3
   },
   "file_extension": ".py",
   "mimetype": "text/x-python",
   "name": "python",
   "nbconvert_exporter": "python",
   "pygments_lexer": "ipython3",
   "version": "3.5.2"
  }
 },
 "nbformat": 4,
 "nbformat_minor": 1
}
