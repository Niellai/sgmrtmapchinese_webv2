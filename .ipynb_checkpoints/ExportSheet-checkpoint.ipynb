{
 "cells": [
  {
   "cell_type": "code",
   "execution_count": 1,
   "metadata": {
    "collapsed": true
   },
   "outputs": [],
   "source": [
    "import json\n",
    "import gspread\n",
    "import asyncio\n",
    "from oauth2client.service_account import ServiceAccountCredentials"
   ]
  },
  {
   "cell_type": "code",
   "execution_count": 2,
   "metadata": {
    "collapsed": true
   },
   "outputs": [],
   "source": [
    "class ExportSheet:\n",
    "   \n",
    "    # Requires creds.json \n",
    "    # Export tweet to Google sheet\n",
    "    def writeToSheet(self, timestampStr, ori_tweet, replaced_tweet, translated_tweet):\n",
    "        try:   \n",
    "            json_key = json.load(open('creds.json'))\n",
    "            scope = ['https://spreadsheets.google.com/feeds']\n",
    "\n",
    "            credentials = ServiceAccountCredentials.from_json_keyfile_name('creds.json', scope)\n",
    "            gs = gspread.authorize(credentials)\n",
    "            sh1 = gs.open(\"sg translation\").sheet1    \n",
    "\n",
    "            print(\"Writing to sheets\")\n",
    "            new_row = [timestampStr, ori_tweet, replaced_tweet, translated_tweet]    \n",
    "            sh1.insert_row(new_row, index=2)\n",
    "            print(\"Write to sheets completed\")\n",
    "        except Exception as e:\n",
    "            print(\"writeToSheet Error: {}\".format(e))"
   ]
  },
  {
   "cell_type": "code",
   "execution_count": 3,
   "metadata": {
    "collapsed": false
   },
   "outputs": [
    {
     "name": "stdout",
     "output_type": "stream",
     "text": [
      "Writing to sheets\n",
      "Write to sheets completed\n"
     ]
    }
   ],
   "source": [
    "# exportSheet = ExportSheet()\n",
    "# ExportSheet.writeToSheet('time', 'ori', 'replace', 'translated')"
   ]
  }
 ],
 "metadata": {
  "anaconda-cloud": {},
  "kernelspec": {
   "display_name": "Python [default]",
   "language": "python",
   "name": "python3"
  },
  "language_info": {
   "codemirror_mode": {
    "name": "ipython",
    "version": 3
   },
   "file_extension": ".py",
   "mimetype": "text/x-python",
   "name": "python",
   "nbconvert_exporter": "python",
   "pygments_lexer": "ipython3",
   "version": "3.5.2"
  }
 },
 "nbformat": 4,
 "nbformat_minor": 1
}
