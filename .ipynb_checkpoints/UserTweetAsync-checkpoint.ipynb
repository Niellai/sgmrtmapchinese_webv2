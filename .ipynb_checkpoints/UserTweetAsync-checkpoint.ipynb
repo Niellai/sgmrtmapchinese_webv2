{
 "cells": [
  {
   "cell_type": "code",
   "execution_count": 1,
   "metadata": {
    "collapsed": false
   },
   "outputs": [],
   "source": [
    "import asyncio\n",
    "import datetime\n",
    "import json\n",
    "import re\n",
    "from concurrent.futures import ThreadPoolExecutor\n",
    "from threading import Thread\n",
    "\n",
    "# Import the necessary methods from \"twitter\" library\n",
    "from twitter import Twitter, OAuth, TwitterHTTPError, TwitterStream\n",
    "# Custom python file to allow import of python notebook \"ipynb\" as module\n",
    "import import_notebook\n",
    "\n",
    "# Python notebook files\n",
    "from WordFormat import WordFormat\n",
    "from ExportSheet import ExportSheet"
   ]
  },
  {
   "cell_type": "code",
   "execution_count": 2,
   "metadata": {
    "collapsed": false
   },
   "outputs": [],
   "source": [
    "'''\n",
    "User tweet will listen and store all tweets that is send to @SG_SMRT\n",
    "No translation is done but replace of abbrivation words is carried out\n",
    "'''\n",
    "class UserTweet:\n",
    "    # Variables that contains the user credentials to access Twitter API \n",
    "    ACCESS_TOKEN = '80337313-lbccFWgRT0BM8VGvepY9foRbiAXbdKYJOo8kC1NFC'\n",
    "    ACCESS_SECRET = 'GyPBROB8XPkz3YwRQoJlyNg1kud4ylCPHS73z5M34V7Es'\n",
    "    CONSUMER_KEY = 'LZ30cTS3iKCZ6XDAlTeTD54xj'\n",
    "    CONSUMER_SECRET = '1yB0ydySHdFKYcMw0baxYkhzMPgzTkfYvNApoGdfCEnGVqTxV3'\n",
    "\n",
    "    def listen(self):\n",
    "        wordFormat = WordFormat()\n",
    "        exportSheet = ExportSheet()\n",
    "        oauth = OAuth(self.ACCESS_TOKEN, self.ACCESS_SECRET, self.CONSUMER_KEY, self.CONSUMER_SECRET)  \n",
    "        print(\"Running twitter stream...\")\n",
    "        try:\n",
    "            # Initiate the connection to Twitter Streaming API\n",
    "            twitter_stream = TwitterStream(auth=oauth)\n",
    "\n",
    "            # Get a sample of the public data following through Twitter\n",
    "            # location lng/lat pair, 1st: south-west 2nd: north-east \n",
    "            # My ID: 80337313\n",
    "            # SMRT_Singapore: 307781209\n",
    "            # SBSTransit_Ltd: 3087502272\n",
    "            stream = twitter_stream.statuses.filter(follow=\"307781209, 3087502272, 80337313\", language=\"en\")\n",
    "        except Exception as e: \n",
    "            print(\"Connecting to twitter error: {}\".format(e))   \n",
    "        \n",
    "        print(\"Waiting for twitter msg...\")\n",
    "        \n",
    "        for tweet in stream:\n",
    "            try:\n",
    "                tweetJson = json.dumps(tweet)\n",
    "                print(tweetJson)\n",
    "\n",
    "                jsonData = self.extractTweet(tweetJson)                                            \n",
    "                if jsonData != None:\n",
    "                    ori_tweet = jsonData['text']\n",
    "                    replaced_tweet = wordFormat.replaceAbbsWords(jsonData['text'])            \n",
    "                    thread = Thread(target=writeToSheet(ori_tweet, replaced_tweet))\n",
    "                    thread.start()\n",
    "                    thread.join()\n",
    "            except Exception as e:    \n",
    "                 print(\"Error in tweet stream: {}\".format(e))\n",
    "                    \n",
    "    def writeToSheet(self, ori_tweet, replaced_tweet):\n",
    "        exportSheet.writeToSheet3Async(ori_tweet, replaced_tweet)\n",
    "        "
   ]
  },
  {
   "cell_type": "code",
   "execution_count": null,
   "metadata": {
    "collapsed": false
   },
   "outputs": [
    {
     "name": "stdout",
     "output_type": "stream",
     "text": [
      "Running twitter stream...\n",
      "Waiting for twitter msg...\n"
     ]
    }
   ],
   "source": [
    "userTweet = UserTweet()\n",
    "userTweet.listen()"
   ]
  }
 ],
 "metadata": {
  "anaconda-cloud": {},
  "kernelspec": {
   "display_name": "Python [default]",
   "language": "python",
   "name": "python3"
  },
  "language_info": {
   "codemirror_mode": {
    "name": "ipython",
    "version": 3
   },
   "file_extension": ".py",
   "mimetype": "text/x-python",
   "name": "python",
   "nbconvert_exporter": "python",
   "pygments_lexer": "ipython3",
   "version": "3.5.2"
  }
 },
 "nbformat": 4,
 "nbformat_minor": 1
}
