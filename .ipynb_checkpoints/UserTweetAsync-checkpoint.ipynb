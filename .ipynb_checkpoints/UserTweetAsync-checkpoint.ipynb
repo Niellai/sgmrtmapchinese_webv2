{
 "cells": [
  {
   "cell_type": "code",
   "execution_count": 1,
   "metadata": {
    "collapsed": false
   },
   "outputs": [],
   "source": [
    "import asyncio\n",
    "import datetime\n",
    "import json\n",
    "import re\n",
    "from concurrent.futures import ThreadPoolExecutor\n",
    "from threading import Thread\n",
    "\n",
    "# Import the necessary methods from \"twitter\" library\n",
    "from twitter import Twitter, OAuth, TwitterHTTPError, TwitterStream\n",
    "# Custom python file to allow import of python notebook \"ipynb\" as module\n",
    "import import_notebook\n",
    "\n",
    "# Python notebook files\n",
    "from WordFormat import WordFormat\n",
    "from ExportSheet import ExportSheet"
   ]
  },
  {
   "cell_type": "code",
   "execution_count": 2,
   "metadata": {
    "collapsed": false
   },
   "outputs": [],
   "source": [
    "'''\n",
    "User tweet will listen and store all tweets that is send to @SG_SMRT\n",
    "No translation is done but replace of abbrivation words is carried out\n",
    "'''\n",
    "class UserTweet:\n",
    "    # Variables that contains the user credentials to access Twitter API \n",
    "    ACCESS_TOKEN = '80337313-rAQ0Gt8CEe3qnrWiL6iJ0GyAcfS8d9hjrKGQQE9mG'\n",
    "    ACCESS_SECRET = 'fro20QRxZRMUjk4RtM2fLo6qqG5FKdP2jbI4ObkDH1xim'\n",
    "    CONSUMER_KEY = 'h6CH9ELrd3Xv6BIKpftJQJEjF'\n",
    "    CONSUMER_SECRET = 'Emy1z0aIQGF0aU8g9nuK8iAojUGH7oyMdNvuafYSKEkSK3nzkm'\n",
    "\n",
    "    def listen(self):\n",
    "        wordFormat = WordFormat()\n",
    "        exportSheet = ExportSheet()\n",
    "        oauth = OAuth(self.ACCESS_TOKEN, self.ACCESS_SECRET, self.CONSUMER_KEY, self.CONSUMER_SECRET)  \n",
    "        print(\"Running twitter stream...\")\n",
    "        try:\n",
    "            # Initiate the connection to Twitter Streaming API\n",
    "            twitter_stream = TwitterStream(auth=oauth)\n",
    "\n",
    "            # Get a sample of the public data following through Twitter\n",
    "            # location lng/lat pair, 1st: south-west 2nd: north-east \n",
    "            # My ID: 80337313\n",
    "            # SMRT_Singapore: 307781209\n",
    "            # SBSTransit_Ltd: 3087502272\n",
    "            stream = twitter_stream.statuses.filter(follow=\"307781209, 3087502272, 80337313\", language=\"en\")\n",
    "        except Exception as e: \n",
    "            print(\"Connecting to twitter error: {}\".format(e))   \n",
    "        \n",
    "        print(\"Waiting for twitter msg...\")\n",
    "        \n",
    "        for tweet in stream:\n",
    "            try:\n",
    "                tweetJson = json.dumps(tweet)\n",
    "                print(tweetJson)\n",
    "\n",
    "                jsonData = self.extractTweet(tweetJson)                                            \n",
    "                if jsonData != None:\n",
    "                    ori_tweet = jsonData['text']\n",
    "                    replaced_tweet = wordFormat.replaceAbbsWords(jsonData['text'])           \n",
    "                    # exportSheet.writeToSheet3(ori_tweet, replaced_tweet)\n",
    "                    thread = Thread(target=exportSheet.writeToSheet3(ori_tweet, replaced_tweet))\n",
    "                    thread.start()\n",
    "                    thread.join()\n",
    "            except Exception as e:    \n",
    "                 print(\"Error in tweet stream: {}\".format(e))\n",
    "\n",
    "    # Extract tweet and return json object, return null when not send from targeted user             \n",
    "    def extractTweet(self, tweetsStr):\n",
    "        try:            \n",
    "            jsonData = json.loads(tweetsStr)                        \n",
    "            \n",
    "            # Ignore retweet\n",
    "            if jsonData['retweeted'] == True:\n",
    "                print('Retweet ignored')\n",
    "                return None\n",
    "            \n",
    "            # Extracting userID\n",
    "            data = {}                        \n",
    "            userData = jsonData['user']                        \n",
    "            userID = userData['id_str']\n",
    "            if userID == '3087502272':\n",
    "                data['text'] = \"[Bus service]{}\".format(jsonData['text'])\n",
    "            elif userID == '307781209' or userID == '80337313':\n",
    "                data['text'] = jsonData['text']\n",
    "            else:     \n",
    "                data['text'] = jsonData['text']                                                   \n",
    "                        \n",
    "            jsonDataStr = json.dumps(data, ensure_ascii=False)   \n",
    "            print(\"Tweet received: {}\".format(data['text']))\n",
    "            return json.loads(jsonDataStr)    \n",
    "        except Exception as e: \n",
    "            print(\"ExtractTweet error: {}\".format(e))           "
   ]
  },
  {
   "cell_type": "code",
   "execution_count": 3,
   "metadata": {
    "collapsed": false
   },
   "outputs": [
    {
     "name": "stdout",
     "output_type": "stream",
     "text": [
      "Writing to sheets\n",
      "Write to sheets completed\n",
      "Writing to sheets\n",
      "Write to sheets completed\n"
     ]
    }
   ],
   "source": [
    "# exportSheet = ExportSheet()\n",
    "# thread = Thread(target=exportSheet.writeToSheet3(\"ori_tweet\", \"replaced_tweet\"))\n",
    "# thread.start()\n",
    "# thread.join()\n",
    "\n",
    "# Testing retweeted file in tweet String\n",
    "# with open('singleTweet.json') as data_file:    \n",
    "#     data = json.load(data_file)\n",
    "#     tweetJson = json.dumps(data)\n",
    "\n",
    "# userTweet = UserTweet()\n",
    "# jsonData = userTweet.extractTweet(tweetJson)                                            \n",
    "# if jsonData != None:\n",
    "#     ori_tweet = jsonData['text']\n",
    "#     replaced_tweet = wordFormat.replaceAbbsWords(jsonData['text'])         \n",
    "#     print(replaced_tweet)\n",
    "                        \n",
    "# userTweet = UserTweet()\n",
    "# userTweet.listen()"
   ]
  }
 ],
 "metadata": {
  "anaconda-cloud": {},
  "kernelspec": {
   "display_name": "Python [default]",
   "language": "python",
   "name": "python3"
  },
  "language_info": {
   "codemirror_mode": {
    "name": "ipython",
    "version": 3
   },
   "file_extension": ".py",
   "mimetype": "text/x-python",
   "name": "python",
   "nbconvert_exporter": "python",
   "pygments_lexer": "ipython3",
   "version": "3.5.2"
  }
 },
 "nbformat": 4,
 "nbformat_minor": 1
}
