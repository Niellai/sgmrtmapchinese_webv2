{
 "cells": [
  {
   "cell_type": "code",
   "execution_count": 1,
   "metadata": {
    "collapsed": false
   },
   "outputs": [
    {
     "name": "stdout",
     "output_type": "stream",
     "text": [
      "importing Jupyter notebook from Translator.ipynb\n"
     ]
    }
   ],
   "source": [
    "import json\n",
    "import codecs\n",
    "import os.path\n",
    "import re\n",
    "\n",
    "# Custom python file to allow import of python notebook \"ipynb\" as module\n",
    "import import_notebook\n",
    "\n",
    "# Google translator\n",
    "from Translator import Translator"
   ]
  },
  {
   "cell_type": "code",
   "execution_count": 2,
   "metadata": {
    "collapsed": true
   },
   "outputs": [],
   "source": [
    "'''\n",
    "Replacement of abb words and train line and station names\n",
    "'''\n",
    "class WordFormat:\n",
    "    \n",
    "    def __init__(self):        \n",
    "        self.abb_replace = self.readJsonFile(\"abb_replacement.json\")\n",
    "        self.line_tran = self.readJsonFile(\"line_translation.json\")\n",
    "        self.station_tran = self.readJsonFile(\"station_translation.json\")\n",
    "    \n",
    "    # Read json file, return JSON object\n",
    "    def readJsonFile(self, fileName):\n",
    "        try:\n",
    "            with codecs.open(fileName, \"r\", \"utf-8\") as file:               \n",
    "                jsonData = json.loads(file.read())        \n",
    "                return jsonData\n",
    "        except Exception as e:\n",
    "            print(\"readJsonFile Error: {}\".format(e))\n",
    "        \n",
    "    def replaceAbbsWords(self, sentence): \n",
    "        try:\n",
    "            for key in self.abb_replace.keys():        \n",
    "                sentence = re.sub(r\"\\b{}\\b\".format(key), self.abb_replace[key], sentence, flags=re.IGNORECASE)    \n",
    "            return sentence\n",
    "        except Exception as e:\n",
    "            print(\"replaceAbbsWords Error: {}\".format(e))\n",
    "            \n",
    "    # From here on all sentence are suppose to be in chinese\n",
    "    def replaceStationWords(self, sentence):\n",
    "        try:\n",
    "            sentence = sentence.replace(\" \", \"\")\n",
    "            for station in self.station_tran:\n",
    "                name = station[\"name\"].replace(\" \", \"\")\n",
    "                ch_name = station[\"ch_name\"]\n",
    "                sentence = re.sub(r\"{}\".format(name), ch_name, sentence, flags=re.IGNORECASE)            \n",
    "            return sentence\n",
    "        except Exception as e:\n",
    "            print(\"replaceStationWords Error: {}\".format(e))          \n",
    "            \n",
    "    def replaceTrainLineWords(self, sentence):\n",
    "        try:\n",
    "            sentence = sentence.replace(\" \", \"\")\n",
    "            for lineEng in self.line_tran:        \n",
    "                line_ch = self.line_tran[lineEng]\n",
    "                sentence = re.sub(r\"{}\".format(lineEng), line_ch, sentence, flags=re.IGNORECASE)\n",
    "            return sentence\n",
    "        except Exception as e:\n",
    "            print(\"replaceTrainLineWords Error: {}\".format(e))            \n",
    "    \n",
    "    # Translate English tweet to chinese Tweet\n",
    "    def translateTweet(self, sentence):\n",
    "        try:             \n",
    "            translator = Translator()\n",
    "            replaced_tweet = self.replaceAbbsWords(sentence)\n",
    "            temp_tweet = translator.toChinese(replaced_tweet)\n",
    "            temp_tweet = self.replaceStationWords(temp_tweet)\n",
    "            translated_tweet = self.replaceTrainLineWords(temp_tweet)      \n",
    "            return replaced_tweet, translated_tweet           \n",
    "        except Exception as e:\n",
    "            print(\"Error in translateTweet: {}\".format(e))"
   ]
  },
  {
   "cell_type": "code",
   "execution_count": 6,
   "metadata": {
    "collapsed": false
   },
   "outputs": [
    {
     "name": "stdout",
     "output_type": "stream",
     "text": [
      "Started translating\n",
      "Started translating\n",
      "Translate completed\n"
     ]
    },
    {
     "data": {
      "text/plain": [
       "('[EWL]UPDATE: Due to a track circuit fault at #BuonaVista,please add 5mins travel time from #Redhill to #Dover,train service is still available.',\n",
       " '[东西地铁线]更新：由于＃波那维斯达的轨道电路故障，请从#红山到＃杜佛添加5分钟的行车时间，火车服务仍然可用。')"
      ]
     },
     "execution_count": 6,
     "metadata": {},
     "output_type": "execute_result"
    }
   ],
   "source": [
    "'''\n",
    "Example / Test methods\n",
    "'''\n",
    "# sentence = '[EWL]UPDATE: Due to a track circuit fault at #BuonaVista,pls add 5mins travel time from #Redhill to #Dover,train svc is still available.'\n",
    "# wordFormat = WordFormat()\n",
    "# wordFormat.translateTweet(sentence)\n",
    "\n",
    "\n",
    "\n"
   ]
  }
 ],
 "metadata": {
  "anaconda-cloud": {},
  "kernelspec": {
   "display_name": "Python [default]",
   "language": "python",
   "name": "python3"
  },
  "language_info": {
   "codemirror_mode": {
    "name": "ipython",
    "version": 3
   },
   "file_extension": ".py",
   "mimetype": "text/x-python",
   "name": "python",
   "nbconvert_exporter": "python",
   "pygments_lexer": "ipython3",
   "version": "3.5.2"
  }
 },
 "nbformat": 4,
 "nbformat_minor": 1
}
