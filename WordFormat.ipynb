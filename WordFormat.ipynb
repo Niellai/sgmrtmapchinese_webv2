{
 "cells": [
  {
   "cell_type": "code",
   "execution_count": 2,
   "metadata": {
    "collapsed": false
   },
   "outputs": [],
   "source": [
    "import json\n",
    "import codecs\n",
    "import os.path\n",
    "import re\n",
    "\n",
    "# Custom python file to allow import of python notebook \"ipynb\" as module\n",
    "import import_notebook\n",
    "\n",
    "# Google translator\n",
    "from Translator import Translator"
   ]
  },
  {
   "cell_type": "code",
   "execution_count": 1,
   "metadata": {
    "collapsed": true
   },
   "outputs": [],
   "source": [
    "'''\n",
    "Replacement of abb words and train line and station names\n",
    "'''\n",
    "\n",
    "class WordFormat:\n",
    "    \n",
    "    def __init__(self):        \n",
    "        self.abb_replace = self.readJsonFile(\"abb_replacement.json\")\n",
    "        self.line_tran = self.readJsonFile(\"line_translation.json\")\n",
    "        self.station_tran = self.readJsonFile(\"station_translation.json\")\n",
    "    \n",
    "    # Read json file, return JSON object\n",
    "    def readJsonFile(self, fileName):\n",
    "        try:\n",
    "            with codecs.open(fileName, \"r\", \"utf-8\") as file:               \n",
    "                jsonData = json.loads(file.read())        \n",
    "                return jsonData\n",
    "        except Exception as e:\n",
    "            print(\"readJsonFile Error: {}\".format(e))\n",
    "        \n",
    "    def replaceAbbsWords(self, sentence): \n",
    "        try:\n",
    "            for key in self.abb_replace:        \n",
    "                sentence = re.sub(r\"\\b{}\\b\".format(key), self.abb_replace[key], sentence, flags=re.IGNORECASE)    \n",
    "                sentence = sentence.replace('&amp;', 'and')\n",
    "            return sentence\n",
    "        except Exception as e:\n",
    "            print(\"replaceAbbsWords Error: {}\".format(e))\n",
    "            \n",
    "    # From here on all sentence are suppose to be in chinese\n",
    "    def replaceStationWords(self, sentence):\n",
    "        try:\n",
    "            sentence = sentence.replace(\" \", \"\")\n",
    "            for station in self.station_tran:\n",
    "                name = station[\"name\"].replace(\" \", \"\")\n",
    "                ch_name = station[\"ch_name\"]\n",
    "                sentence = re.sub(r\"{}\".format(name), ch_name, sentence, flags=re.IGNORECASE)            \n",
    "            return sentence\n",
    "        except Exception as e:\n",
    "            print(\"replaceStationWords Error: {}\".format(e))          \n",
    "            \n",
    "    def replaceTrainLineWords(self, sentence):\n",
    "        try:\n",
    "            sentence = sentence.replace(\" \", \"\")\n",
    "            for lineEng in self.line_tran:        \n",
    "                line_ch = self.line_tran[lineEng]\n",
    "                sentence = re.sub(r\"{}\".format(lineEng), line_ch, sentence, flags=re.IGNORECASE)\n",
    "            return sentence\n",
    "        except Exception as e:\n",
    "            print(\"replaceTrainLineWords Error: {}\".format(e))            \n",
    "    \n",
    "    # Translate English tweet to chinese Tweet\n",
    "    def translateTweet(self, sentence):\n",
    "        try:             \n",
    "            translator = Translator()\n",
    "            replaced_tweet = self.replaceAbbsWords(sentence)\n",
    "            temp_tweet = translator.toChinese(replaced_tweet)\n",
    "            temp_tweet = self.replaceStationWords(temp_tweet)\n",
    "            translated_tweet = self.replaceTrainLineWords(temp_tweet)      \n",
    "            return replaced_tweet, translated_tweet           \n",
    "        except Exception as e:\n",
    "            print(\"Error in translateTweet: {}\".format(e))"
   ]
  },
  {
   "cell_type": "code",
   "execution_count": 15,
   "metadata": {
    "collapsed": false
   },
   "outputs": [
    {
     "data": {
      "text/plain": [
       "'SMRT launches new three-door bus on service 190 between Choa Chu Kang and Chinatown'"
      ]
     },
     "execution_count": 15,
     "metadata": {},
     "output_type": "execute_result"
    }
   ],
   "source": [
    "'''\n",
    "Example / Test methods\n",
    "'''\n",
    "# sentence = 'SMRT launches new three-door bus on service 190 between Choa Chu Kang and Chinatown'\n",
    "# wordFormat = WordFormat()\n",
    "# translator = Translator()\n",
    "\n",
    "# replaced_tweet = wordFormat.replaceAbbsWords(sentence)\n"
   ]
  }
 ],
 "metadata": {
  "anaconda-cloud": {},
  "kernelspec": {
   "display_name": "Python [default]",
   "language": "python",
   "name": "python3"
  },
  "language_info": {
   "codemirror_mode": {
    "name": "ipython",
    "version": 3
   },
   "file_extension": ".py",
   "mimetype": "text/x-python",
   "name": "python",
   "nbconvert_exporter": "python",
   "pygments_lexer": "ipython3",
   "version": "3.5.2"
  }
 },
 "nbformat": 4,
 "nbformat_minor": 1
}
